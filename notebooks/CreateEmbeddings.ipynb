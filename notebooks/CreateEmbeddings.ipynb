{
 "cells": [
  {
   "cell_type": "code",
   "execution_count": 1,
   "metadata": {},
   "outputs": [
    {
     "data": {
      "text/plain": [
       "True"
      ]
     },
     "execution_count": 1,
     "metadata": {},
     "output_type": "execute_result"
    }
   ],
   "source": [
    "import dotenv\n",
    "dotenv.load_dotenv()"
   ]
  },
  {
   "cell_type": "code",
   "execution_count": 2,
   "metadata": {},
   "outputs": [],
   "source": [
    "import numpy as np\n",
    "import inflect\n",
    "p = inflect.engine()\n",
    "\n",
    "@np.vectorize\n",
    "def number_to_string(number):\n",
    "    return p.number_to_words(number)\n",
    "\n",
    "@np.vectorize\n",
    "def multiply_numbers(number_1, number_2):\n",
    "    res = number_1 * number_2\n",
    "    return (f'{number_to_string(number_1)} times {number_to_string(number_2)}', number_to_string(res), res)"
   ]
  },
  {
   "cell_type": "code",
   "execution_count": 3,
   "metadata": {},
   "outputs": [],
   "source": [
    "# Generate a random number between 1 and 100 billion\n",
    "lower_bound = 1e4\n",
    "upper_bound = 1e6\n",
    "n_samples = 10_000\n",
    "\n",
    "np.random.seed(1337)\n",
    "numbers = np.random.randint(lower_bound, upper_bound, (n_samples, 2))\n",
    "\n",
    "number_1 = numbers[:, 0]\n",
    "number_1_string = number_to_string(number_1)\n",
    "\n",
    "number_2 = numbers[:, 1]\n",
    "\n",
    "expression_string, result_string, result = multiply_numbers(number_1, number_2)"
   ]
  },
  {
   "cell_type": "code",
   "execution_count": 4,
   "metadata": {},
   "outputs": [],
   "source": [
    "comparator_numbers = np.arange(lower_bound ** 2, upper_bound ** 2, 10_000_000).astype(int)\n",
    "comparator_number_strings = number_to_string(comparator_numbers)"
   ]
  },
  {
   "cell_type": "code",
   "execution_count": 5,
   "metadata": {},
   "outputs": [],
   "source": [
    "import chromadb\n",
    "from inflection.encoding.openai import ada_embedding_function\n",
    "\n",
    "CHROMA_PATH = '../chroma/'\n",
    "client = chromadb.PersistentClient(path = CHROMA_PATH, settings = chromadb.Settings(anonymized_telemetry=False))"
   ]
  },
  {
   "cell_type": "code",
   "execution_count": 6,
   "metadata": {},
   "outputs": [],
   "source": [
    "expression_collection = client.get_or_create_collection(\"expression_collection\", embedding_function=ada_embedding_function)\n",
    "solution_collection = client.get_or_create_collection(\"solution_collection\", embedding_function=ada_embedding_function)\n",
    "evaluation_collection = client.get_or_create_collection(\"evaulation_collection\", embedding_function=ada_embedding_function)"
   ]
  },
  {
   "cell_type": "markdown",
   "metadata": {},
   "source": [
    "#### Populate Expression DB"
   ]
  },
  {
   "cell_type": "code",
   "execution_count": 7,
   "metadata": {},
   "outputs": [],
   "source": [
    "# Expression Metadata\n",
    "metadatas = [{'number_1_int': int(n1_int), \n",
    "              'number_2_int': int(n2_int),\n",
    "              'product_int': int(prod)}\n",
    "              for n1_int, n2_int, prod in zip(number_1, number_2, result)]\n",
    "\n",
    "# Expression Documents\n",
    "docs = expression_string.tolist()\n",
    "\n",
    "# IDs\n",
    "ids = [hex(i)[2:] for i in range(len(docs))]\n",
    "\n",
    "expression_collection.add(ids, metadatas=metadatas, documents=docs)"
   ]
  },
  {
   "cell_type": "markdown",
   "metadata": {},
   "source": [
    "#### Populate Solution DB"
   ]
  },
  {
   "cell_type": "code",
   "execution_count": 8,
   "metadata": {},
   "outputs": [],
   "source": [
    "# Solution Metadata\n",
    "metadatas = [{'number_1_int': int(n1_int), \n",
    "              'number_2_int': int(n2_int),\n",
    "              'product_int': int(prod)}\n",
    "              for n1_int, n2_int, prod in zip(number_1, number_2, result)]\n",
    "\n",
    "# Solution Documents\n",
    "docs = result_string.tolist()\n",
    "\n",
    "# IDs\n",
    "ids = [hex(i)[2:] for i in range(len(docs))]\n",
    "\n",
    "solution_collection.add(ids, metadatas=metadatas, documents=docs)"
   ]
  },
  {
   "cell_type": "markdown",
   "metadata": {},
   "source": [
    "#### Populate Evaluation DB"
   ]
  },
  {
   "cell_type": "code",
   "execution_count": 9,
   "metadata": {},
   "outputs": [],
   "source": [
    "# Solution Metadata\n",
    "metadatas = [\n",
    "    {'prod_int': int(number_int)} for number_int in comparator_numbers\n",
    "]\n",
    "\n",
    "# Solution Documents\n",
    "docs = comparator_number_strings.tolist()\n",
    "\n",
    "# Ids\n",
    "ids = [hex(i)[2:] for i in range(len(docs))]\n",
    "\n",
    "evaluation_collection.add(ids, metadatas=metadatas, documents=docs)"
   ]
  }
 ],
 "metadata": {
  "kernelspec": {
   "display_name": "env",
   "language": "python",
   "name": "python3"
  },
  "language_info": {
   "codemirror_mode": {
    "name": "ipython",
    "version": 3
   },
   "file_extension": ".py",
   "mimetype": "text/x-python",
   "name": "python",
   "nbconvert_exporter": "python",
   "pygments_lexer": "ipython3",
   "version": "3.11.4"
  },
  "orig_nbformat": 4
 },
 "nbformat": 4,
 "nbformat_minor": 2
}
